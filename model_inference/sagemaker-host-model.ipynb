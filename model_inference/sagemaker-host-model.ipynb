{
 "cells": [
  {
   "cell_type": "code",
   "execution_count": 3,
   "metadata": {},
   "outputs": [],
   "source": [
    "import boto3"
   ]
  },
  {
   "cell_type": "code",
   "execution_count": null,
   "metadata": {},
   "outputs": [],
   "source": [
    "def deploy_sagemaker_endpoint(trainingJobName, cf_template):\n",
    "    \"\"\"\n",
    "    Deploys Sagemaker endpoint for inference using trained Sagemaker model\n",
    "    and CloudFormation template.\n",
    "\n",
    "    :param trainingJobName: trainJobName of trained Sagemaker model.\n",
    "    :param cf_template: CloudFormation template to create endpoint.\n",
    "    :return: Sagemaker endpoint which can be used to deploy model.\n",
    "    \"\"\"\n",
    "\n",
    "    # boto sagemaker and cloudformation instances\n",
    "    sm = boto3.client(\"sagemaker\")\n",
    "    cf = boto3.client(\"cloudformation\")\n",
    "\n",
    "    # get train params\n",
    "    train_params = sm.describe_training_job(TrainingJobName=trainingJobName)\n",
    "    trainingImage = train_params['AlgorithmSpecification'][\"TrainingImage\"]\n",
    "    modelDataUrl = train_params['ModelArtifacts']['S3ModelArtifacts']\n",
    "    roleArn = train_params['RoleArn']\n",
    "\n",
    "    # create stack\n",
    "    with open(cf_template, \"r\") as f:\n",
    "        stack = cf.create_stack(StackName=cf_template,\n",
    "                                TemplateBody=f.read(),\n",
    "                                Parameters=[\n",
    "                                    {\"ParameterKey\": \"ModelName\", \"ParameterValue\": trainingJobName},\n",
    "                                    {\"ParameterKey\": \"TrainingImage\", \"ParameterValue\": trainingImage},\n",
    "                                    {\"ParameterKey\": \"ModelDataUrl\", \"ParameterValue\": modelDataUrl},\n",
    "                                    {\"ParameterKey\": \"RoleArn\", \"ParameterValue\": roleArn}\n",
    "                                ])\n",
    "        print(stack)\n"
   ]
  },
  {
   "cell_type": "code",
   "execution_count": null,
   "metadata": {},
   "outputs": [],
   "source": [
    "if __name__== \"__main__\":\n",
    "\n",
    "    # define your training job name, e.g.,\n",
    "    trainingJobName = \"sagemaker-lstm-2020-03-26-17-01-05-775\"\n",
    "\n",
    "    # define template for sagemaker endpoint, e.g,\n",
    "    cf_deploy_template = \"cf-templates/sm-model-hosting.yml\"\n",
    "\n",
    "    # deploy endpoint for inference\n",
    "    deploy_sagemaker_endpoint(trainingJobName, cf_deploy_template)"
   ]
  }
 ],
 "metadata": {
  "kernelspec": {
   "display_name": "conda_pytorch_p36",
   "language": "python",
   "name": "conda_pytorch_p36"
  },
  "language_info": {
   "codemirror_mode": {
    "name": "ipython",
    "version": 3
   },
   "file_extension": ".py",
   "mimetype": "text/x-python",
   "name": "python",
   "nbconvert_exporter": "python",
   "pygments_lexer": "ipython3",
   "version": "3.6.5"
  }
 },
 "nbformat": 4,
 "nbformat_minor": 4
}
